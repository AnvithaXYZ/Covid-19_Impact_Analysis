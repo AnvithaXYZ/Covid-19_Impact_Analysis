{
 "cells": [
  {
   "cell_type": "code",
   "execution_count": 2,
   "id": "f26d3511",
   "metadata": {},
   "outputs": [],
   "source": [
    "import numpy as np\n",
    "import pandas as pd\n",
    "import matplotlib.pyplot as plt\n",
    "import seaborn as sns\n",
    "\n",
    "covid_india = pd.read_csv('C:/Users/anvit/OneDrive/Documents/2nd sem docs/Scripting/FinalProject/covid_19_india.csv', sep=\",\")\n",
    "covid_india_vaccine = pd.read_csv('C:/Users/anvit/OneDrive/Documents/2nd sem docs/Scripting/FinalProject/covid_vaccine_india.csv', sep=\",\")\n",
    "tests_india = pd.read_csv('C:/Users/anvit/OneDrive/Documents/2nd sem docs/Scripting/FinalProject/tests_india.csv', sep=\",\")\n",
    "covid_us_states = pd.read_csv('C:/Users/anvit/OneDrive/Documents/2nd sem docs/Scripting/FinalProject/us_states_covid19.csv', sep=\",\")\n",
    "covid_us_counties = pd.read_csv('C:/Users/anvit/OneDrive/Documents/2nd sem docs/Scripting/FinalProject/us_counties_covid19.csv', sep=\",\")\n",
    "covid_usagg = pd.read_csv('C:/Users/anvit/OneDrive/Documents/2nd sem docs/Scripting/FinalProject/us_covid19_dailyagg.csv', sep=\",\")\n",
    "covid_world = pd.read_csv('C:/Users/anvit/OneDrive/Documents/2nd sem docs/Scripting/FinalProject/covid_worldwide.csv', sep=\",\")"
   ]
  },
  {
   "cell_type": "code",
   "execution_count": 13,
   "id": "cef168d5",
   "metadata": {},
   "outputs": [
    {
     "data": {
      "text/html": [
       "<div>\n",
       "<style scoped>\n",
       "    .dataframe tbody tr th:only-of-type {\n",
       "        vertical-align: middle;\n",
       "    }\n",
       "\n",
       "    .dataframe tbody tr th {\n",
       "        vertical-align: top;\n",
       "    }\n",
       "\n",
       "    .dataframe thead th {\n",
       "        text-align: right;\n",
       "    }\n",
       "</style>\n",
       "<table border=\"1\" class=\"dataframe\">\n",
       "  <thead>\n",
       "    <tr style=\"text-align: right;\">\n",
       "      <th></th>\n",
       "      <th>Date</th>\n",
       "      <th>State</th>\n",
       "      <th>TotalSamples</th>\n",
       "      <th>Negative</th>\n",
       "      <th>Positive</th>\n",
       "    </tr>\n",
       "  </thead>\n",
       "  <tbody>\n",
       "    <tr>\n",
       "      <th>0</th>\n",
       "      <td>2020-04-17</td>\n",
       "      <td>Andaman and Nicobar Islands</td>\n",
       "      <td>1403.0</td>\n",
       "      <td>1210</td>\n",
       "      <td>12.0</td>\n",
       "    </tr>\n",
       "    <tr>\n",
       "      <th>1</th>\n",
       "      <td>2020-04-24</td>\n",
       "      <td>Andaman and Nicobar Islands</td>\n",
       "      <td>2679.0</td>\n",
       "      <td>NaN</td>\n",
       "      <td>27.0</td>\n",
       "    </tr>\n",
       "    <tr>\n",
       "      <th>2</th>\n",
       "      <td>2020-04-27</td>\n",
       "      <td>Andaman and Nicobar Islands</td>\n",
       "      <td>2848.0</td>\n",
       "      <td>NaN</td>\n",
       "      <td>33.0</td>\n",
       "    </tr>\n",
       "    <tr>\n",
       "      <th>3</th>\n",
       "      <td>2020-05-01</td>\n",
       "      <td>Andaman and Nicobar Islands</td>\n",
       "      <td>3754.0</td>\n",
       "      <td>NaN</td>\n",
       "      <td>33.0</td>\n",
       "    </tr>\n",
       "    <tr>\n",
       "      <th>4</th>\n",
       "      <td>2020-05-16</td>\n",
       "      <td>Andaman and Nicobar Islands</td>\n",
       "      <td>6677.0</td>\n",
       "      <td>NaN</td>\n",
       "      <td>33.0</td>\n",
       "    </tr>\n",
       "  </tbody>\n",
       "</table>\n",
       "</div>"
      ],
      "text/plain": [
       "         Date                        State  TotalSamples Negative  Positive\n",
       "0  2020-04-17  Andaman and Nicobar Islands        1403.0     1210      12.0\n",
       "1  2020-04-24  Andaman and Nicobar Islands        2679.0      NaN      27.0\n",
       "2  2020-04-27  Andaman and Nicobar Islands        2848.0      NaN      33.0\n",
       "3  2020-05-01  Andaman and Nicobar Islands        3754.0      NaN      33.0\n",
       "4  2020-05-16  Andaman and Nicobar Islands        6677.0      NaN      33.0"
      ]
     },
     "execution_count": 13,
     "metadata": {},
     "output_type": "execute_result"
    }
   ],
   "source": [
    "tests_india.head()"
   ]
  },
  {
   "cell_type": "code",
   "execution_count": 14,
   "id": "8f90ba5f",
   "metadata": {},
   "outputs": [
    {
     "name": "stdout",
     "output_type": "stream",
     "text": [
      "<class 'pandas.core.frame.DataFrame'>\n",
      "RangeIndex: 16336 entries, 0 to 16335\n",
      "Data columns (total 5 columns):\n",
      " #   Column        Non-Null Count  Dtype  \n",
      "---  ------        --------------  -----  \n",
      " 0   Date          16336 non-null  object \n",
      " 1   State         16336 non-null  object \n",
      " 2   TotalSamples  16336 non-null  float64\n",
      " 3   Negative      6969 non-null   object \n",
      " 4   Positive      5662 non-null   float64\n",
      "dtypes: float64(2), object(3)\n",
      "memory usage: 638.2+ KB\n",
      "Date                0\n",
      "State               0\n",
      "TotalSamples        0\n",
      "Negative         9367\n",
      "Positive        10674\n",
      "dtype: int64\n"
     ]
    }
   ],
   "source": [
    "tests_india.info()\n",
    "print(tests_india.isnull().sum())"
   ]
  },
  {
   "cell_type": "code",
   "execution_count": 15,
   "id": "2e309db3",
   "metadata": {},
   "outputs": [
    {
     "name": "stdout",
     "output_type": "stream",
     "text": [
      "Date            0\n",
      "State           0\n",
      "TotalSamples    0\n",
      "Negative        0\n",
      "Positive        0\n",
      "dtype: int64\n"
     ]
    }
   ],
   "source": [
    "# Replace NaN values in the Negative column with 0\n",
    "tests_india[\"Negative\"] = tests_india[\"Negative\"].fillna(0)\n",
    "tests_india[\"Positive\"] = tests_india[\"Positive\"].fillna(0)\n",
    "print(tests_india.isnull().sum())\n"
   ]
  },
  {
   "cell_type": "code",
   "execution_count": 16,
   "id": "dd46927a",
   "metadata": {},
   "outputs": [
    {
     "name": "stdout",
     "output_type": "stream",
     "text": [
      "date                               0\n",
      "state                              0\n",
      "positive                         152\n",
      "probableCases                  10184\n",
      "negative                         310\n",
      "pending                        13949\n",
      "totalTestResultsSource             0\n",
      "totalTestResults                  35\n",
      "hospitalizedCurrently           3117\n",
      "hospitalizedCumulative          6199\n",
      "inIcuCurrently                  7920\n",
      "inIcuCumulative                12933\n",
      "onVentilatorCurrently           9422\n",
      "onVentilatorCumulative         14704\n",
      "recovered                       4522\n",
      "dataQualityGrade                1261\n",
      "lastUpdateEt                     487\n",
      "dateModified                     487\n",
      "checkTimeEt                      487\n",
      "death                            826\n",
      "hospitalized                    6199\n",
      "dateChecked                      487\n",
      "totalTestsViral                 5812\n",
      "positiveTestsViral             10621\n",
      "negativeTestsViral             12318\n",
      "positiveCasesViral              3516\n",
      "deathConfirmed                  8783\n",
      "deathProbable                  10529\n",
      "totalTestEncountersViral       11955\n",
      "totalTestsPeopleViral           9005\n",
      "totalTestsAntibody             12616\n",
      "positiveTestsAntibody          13415\n",
      "negativeTestsAntibody          14638\n",
      "totalTestsPeopleAntibody       14375\n",
      "positiveTestsPeopleAntibody    14834\n",
      "negativeTestsPeopleAntibody    14865\n",
      "totalTestsPeopleAntigen        15089\n",
      "positiveTestsPeopleAntigen     15222\n",
      "totalTestsAntigen              14456\n",
      "positiveTestsAntigen           14902\n",
      "fips                               0\n",
      "positiveIncrease                   0\n",
      "negativeIncrease                   0\n",
      "total                              0\n",
      "totalTestResultsIncrease           0\n",
      "posNeg                             0\n",
      "deathIncrease                      0\n",
      "hospitalizedIncrease               0\n",
      "hash                               0\n",
      "commercialScore                    0\n",
      "negativeRegularScore               0\n",
      "negativeScore                      0\n",
      "positiveScore                      0\n",
      "score                              0\n",
      "grade                          15633\n",
      "dtype: int64\n"
     ]
    }
   ],
   "source": [
    "covid_us_states.head()\n",
    "print(covid_us_states.isnull().sum())"
   ]
  },
  {
   "cell_type": "code",
   "execution_count": 18,
   "id": "2501dbd0",
   "metadata": {},
   "outputs": [
    {
     "name": "stdout",
     "output_type": "stream",
     "text": [
      "date                               0\n",
      "state                              0\n",
      "positive                           0\n",
      "probableCases                  10184\n",
      "negative                           0\n",
      "pending                        13949\n",
      "totalTestResultsSource             0\n",
      "totalTestResults                  35\n",
      "hospitalizedCurrently           3117\n",
      "hospitalizedCumulative          6199\n",
      "inIcuCurrently                  7920\n",
      "inIcuCumulative                12933\n",
      "onVentilatorCurrently           9422\n",
      "onVentilatorCumulative         14704\n",
      "recovered                       4522\n",
      "dataQualityGrade                1261\n",
      "lastUpdateEt                     487\n",
      "dateModified                     487\n",
      "checkTimeEt                      487\n",
      "death                            826\n",
      "hospitalized                    6199\n",
      "dateChecked                      487\n",
      "totalTestsViral                 5812\n",
      "positiveTestsViral             10621\n",
      "negativeTestsViral             12318\n",
      "positiveCasesViral              3516\n",
      "deathConfirmed                  8783\n",
      "deathProbable                  10529\n",
      "totalTestEncountersViral       11955\n",
      "totalTestsPeopleViral           9005\n",
      "totalTestsAntibody             12616\n",
      "positiveTestsAntibody          13415\n",
      "negativeTestsAntibody          14638\n",
      "totalTestsPeopleAntibody       14375\n",
      "positiveTestsPeopleAntibody    14834\n",
      "negativeTestsPeopleAntibody    14865\n",
      "totalTestsPeopleAntigen        15089\n",
      "positiveTestsPeopleAntigen     15222\n",
      "totalTestsAntigen              14456\n",
      "positiveTestsAntigen           14902\n",
      "fips                               0\n",
      "positiveIncrease                   0\n",
      "negativeIncrease                   0\n",
      "total                              0\n",
      "totalTestResultsIncrease           0\n",
      "posNeg                             0\n",
      "deathIncrease                      0\n",
      "hospitalizedIncrease               0\n",
      "hash                               0\n",
      "commercialScore                    0\n",
      "negativeRegularScore               0\n",
      "negativeScore                      0\n",
      "positiveScore                      0\n",
      "score                              0\n",
      "grade                          15633\n",
      "dtype: int64\n"
     ]
    }
   ],
   "source": [
    "covid_us_states[\"negative\"] = covid_us_states[\"negative\"].fillna(0)\n",
    "covid_us_states[\"positive\"] = covid_us_states[\"positive\"].fillna(0)\n",
    "print(covid_us_states.isnull().sum())"
   ]
  },
  {
   "cell_type": "code",
   "execution_count": 20,
   "id": "33177fa9",
   "metadata": {},
   "outputs": [
    {
     "name": "stdout",
     "output_type": "stream",
     "text": [
      "<class 'pandas.core.frame.DataFrame'>\n",
      "RangeIndex: 15633 entries, 0 to 15632\n",
      "Data columns (total 55 columns):\n",
      " #   Column                       Non-Null Count  Dtype  \n",
      "---  ------                       --------------  -----  \n",
      " 0   date                         15633 non-null  int64  \n",
      " 1   state                        15633 non-null  object \n",
      " 2   positive                     15633 non-null  float64\n",
      " 3   probableCases                5449 non-null   float64\n",
      " 4   negative                     15633 non-null  float64\n",
      " 5   pending                      1684 non-null   float64\n",
      " 6   totalTestResultsSource       15633 non-null  object \n",
      " 7   totalTestResults             15598 non-null  float64\n",
      " 8   hospitalizedCurrently        12516 non-null  float64\n",
      " 9   hospitalizedCumulative       9434 non-null   float64\n",
      " 10  inIcuCurrently               7713 non-null   float64\n",
      " 11  inIcuCumulative              2700 non-null   float64\n",
      " 12  onVentilatorCurrently        6211 non-null   float64\n",
      " 13  onVentilatorCumulative       929 non-null    float64\n",
      " 14  recovered                    11111 non-null  float64\n",
      " 15  dataQualityGrade             14372 non-null  object \n",
      " 16  lastUpdateEt                 15146 non-null  object \n",
      " 17  dateModified                 15146 non-null  object \n",
      " 18  checkTimeEt                  15146 non-null  object \n",
      " 19  death                        14807 non-null  float64\n",
      " 20  hospitalized                 9434 non-null   float64\n",
      " 21  dateChecked                  15146 non-null  object \n",
      " 22  totalTestsViral              9821 non-null   float64\n",
      " 23  positiveTestsViral           5012 non-null   float64\n",
      " 24  negativeTestsViral           3315 non-null   float64\n",
      " 25  positiveCasesViral           12117 non-null  float64\n",
      " 26  deathConfirmed               6850 non-null   float64\n",
      " 27  deathProbable                5104 non-null   float64\n",
      " 28  totalTestEncountersViral     3678 non-null   float64\n",
      " 29  totalTestsPeopleViral        6628 non-null   float64\n",
      " 30  totalTestsAntibody           3017 non-null   float64\n",
      " 31  positiveTestsAntibody        2218 non-null   float64\n",
      " 32  negativeTestsAntibody        995 non-null    float64\n",
      " 33  totalTestsPeopleAntibody     1258 non-null   float64\n",
      " 34  positiveTestsPeopleAntibody  799 non-null    float64\n",
      " 35  negativeTestsPeopleAntibody  768 non-null    float64\n",
      " 36  totalTestsPeopleAntigen      544 non-null    float64\n",
      " 37  positiveTestsPeopleAntigen   411 non-null    float64\n",
      " 38  totalTestsAntigen            1177 non-null   float64\n",
      " 39  positiveTestsAntigen         731 non-null    float64\n",
      " 40  fips                         15633 non-null  int64  \n",
      " 41  positiveIncrease             15633 non-null  int64  \n",
      " 42  negativeIncrease             15633 non-null  int64  \n",
      " 43  total                        15633 non-null  int64  \n",
      " 44  totalTestResultsIncrease     15633 non-null  int64  \n",
      " 45  posNeg                       15633 non-null  int64  \n",
      " 46  deathIncrease                15633 non-null  int64  \n",
      " 47  hospitalizedIncrease         15633 non-null  int64  \n",
      " 48  hash                         15633 non-null  object \n",
      " 49  commercialScore              15633 non-null  int64  \n",
      " 50  negativeRegularScore         15633 non-null  int64  \n",
      " 51  negativeScore                15633 non-null  int64  \n",
      " 52  positiveScore                15633 non-null  int64  \n",
      " 53  score                        15633 non-null  int64  \n",
      " 54  grade                        0 non-null      float64\n",
      "dtypes: float64(33), int64(14), object(8)\n",
      "memory usage: 6.6+ MB\n"
     ]
    }
   ],
   "source": [
    "covid_us_states.info()"
   ]
  },
  {
   "cell_type": "code",
   "execution_count": 21,
   "id": "b1f3f2bb",
   "metadata": {},
   "outputs": [
    {
     "name": "stdout",
     "output_type": "stream",
     "text": [
      "India Data:\n",
      "         Date           State Negative  Positive\n",
      "0  2020-04-01           Delhi        0       0.0\n",
      "1  2020-04-01          Kerala     7256     265.0\n",
      "2  2020-04-01     West Bengal      568      37.0\n",
      "3  2020-04-02  Andhra Pradesh     1175     132.0\n",
      "4  2020-04-02           Assam      819      16.0\n",
      "\n",
      "USA Data:\n",
      "       Date State   Negative  Positive\n",
      "0  20201206    AK  1042056.0   35720.0\n",
      "1  20201206    AL  1421126.0  269877.0\n",
      "2  20201206    AR  1614979.0  170924.0\n",
      "3  20201206    AS     2140.0       0.0\n",
      "4  20201206    AZ  2018813.0  364276.0\n"
     ]
    }
   ],
   "source": [
    "# Preprocess the India testing data\n",
    "tests_india = tests_india[[\"Date\", \"State\", \"Negative\", \"Positive\"]]\n",
    "tests_india = tests_india.groupby([\"Date\", \"State\",\"Negative\", \"Positive\"]).sum().reset_index()\n",
    "# Preprocess the USA daily data\n",
    "covid_us_states = covid_us_states[[\"date\", \"state\", \"negative\", \"positive\"]]\n",
    "covid_us_states = covid_us_states.rename(columns={\"date\": \"Date\", \"state\": \"State\",\"negative\":\"Negative\", \"positive\":\"Positive\"})\n",
    "\n",
    "# Create separate datasets for India and USA\n",
    "tests_india_df = tests_india[tests_india[\"State\"].notnull()]\n",
    "covid_us_states_df = covid_us_states[covid_us_states[\"State\"].notnull()]\n",
    "\n",
    "# Display the preprocessed data\n",
    "print(\"India Data:\")\n",
    "print(tests_india.head())\n",
    "print(\"\\nUSA Data:\")\n",
    "print(covid_us_states.head())\n"
   ]
  },
  {
   "cell_type": "code",
   "execution_count": 22,
   "id": "8b224178",
   "metadata": {},
   "outputs": [
    {
     "data": {
      "image/png": "[encoded data removed]",
      "text/plain": [
       "<Figure size 1500x800 with 1 Axes>"
      ]
     },
     "metadata": {},
     "output_type": "display_data"
    }
   ],
   "source": [
    "# Group the data by state and sum the positive and negative cases\n",
    "grouped_data = covid_us_states.groupby(\"State\").sum()\n",
    "\n",
    "# Create a bar chart of the positive and negative cases by state\n",
    "grouped_data[[\"Positive\", \"Negative\"]].plot(kind=\"bar\", figsize=(15,8))\n",
    "plt.xlabel(\"State\")\n",
    "plt.ylabel(\"Number of Cases\")\n",
    "plt.title(\"Total Positive and Negative COVID-19 Cases by State in the USA\")\n",
    "plt.legend([\"Positive\", \"Negative\"])\n",
    "plt.show()"
   ]
  },
  {
   "cell_type": "code",
   "execution_count": 23,
   "id": "292061c9",
   "metadata": {},
   "outputs": [
    {
     "data": {
      "image/png": "[encoded data removed]",
      "text/plain": [
       "<Figure size 640x480 with 1 Axes>"
      ]
     },
     "metadata": {},
     "output_type": "display_data"
    }
   ],
   "source": [
    "# Compute the total number of positive cases in each country\n",
    "total_positive_india = tests_india[\"Positive\"].sum()\n",
    "total_positive_usa = covid_us_states[\"Positive\"].sum()\n",
    "\n",
    "# Create a bar graph\n",
    "plt.bar([\"India\", \"USA\"], [total_positive_india, total_positive_usa])\n",
    "\n",
    "# Add labels and title\n",
    "plt.xlabel(\"Country\")\n",
    "plt.ylabel(\"Total Positive Cases\")\n",
    "plt.title(\"Comparison of Total Positive Cases in India and USA\")\n",
    "\n",
    "# Show the plot\n",
    "plt.show()\n"
   ]
  },
  {
   "cell_type": "code",
   "execution_count": 7,
   "id": "7d8b2157",
   "metadata": {},
   "outputs": [
    {
     "name": "stdout",
     "output_type": "stream",
     "text": [
      "<class 'pandas.core.frame.DataFrame'>\n",
      "RangeIndex: 231 entries, 0 to 230\n",
      "Data columns (total 8 columns):\n",
      " #   Column           Non-Null Count  Dtype \n",
      "---  ------           --------------  ----- \n",
      " 0   Serial Number    231 non-null    int64 \n",
      " 1   Country          231 non-null    object\n",
      " 2   Total Cases      231 non-null    object\n",
      " 3   Total Deaths     225 non-null    object\n",
      " 4   Total Recovered  210 non-null    object\n",
      " 5   Active Cases     212 non-null    object\n",
      " 6   Total Test       213 non-null    object\n",
      " 7   Population       228 non-null    object\n",
      "dtypes: int64(1), object(7)\n",
      "memory usage: 14.6+ KB\n",
      "Serial Number       0\n",
      "Country             0\n",
      "Total Cases         0\n",
      "Total Deaths        6\n",
      "Total Recovered    21\n",
      "Active Cases       19\n",
      "Total Test         18\n",
      "Population          3\n",
      "dtype: int64\n"
     ]
    }
   ],
   "source": [
    "covid_world.info()\n",
    "print(covid_world.isnull().sum())"
   ]
  },
  {
   "cell_type": "code",
   "execution_count": 17,
   "id": "7bb44a2a",
   "metadata": {},
   "outputs": [
    {
     "name": "stdout",
     "output_type": "stream",
     "text": [
      "Serial Number      0\n",
      "Country            0\n",
      "Total Cases        0\n",
      "Total Deaths       0\n",
      "Total Recovered    0\n",
      "Active Cases       0\n",
      "Total Test         0\n",
      "Population         0\n",
      "dtype: int64\n"
     ]
    }
   ],
   "source": [
    "covid_world[\"Total Deaths\"] = covid_world[\"Total Deaths\"].fillna(0)\n",
    "covid_world[\"Total Recovered\"] = covid_world[\"Total Recovered\"].fillna(0)\n",
    "covid_world[\"Active Cases\"] = covid_world[\"Active Cases\"].fillna(0)\n",
    "covid_world[\"Total Test\"] = covid_world[\"Total Test\"].fillna(0)\n",
    "covid_world[\"Population\"] = covid_world[\"Population\"].fillna(0)\n",
    "print(covid_world.isnull().sum())"
   ]
  },
  {
   "cell_type": "code",
   "execution_count": 14,
   "id": "d5a72002",
   "metadata": {},
   "outputs": [
    {
     "data": {
      "image/png": "[encoded data removed]",
      "text/plain": [
       "<Figure size 1200x600 with 1 Axes>"
      ]
     },
     "metadata": {},
     "output_type": "display_data"
    }
   ],
   "source": [
    "# Visualize the total cases by country using a bar chart\n",
    "top_10_countries = covid_world.sort_values('Total Cases', ascending=False).head(10)\n",
    "plt.figure(figsize=(12, 6))\n",
    "sns.barplot(x='Country', y='Total Cases', data=top_10_countries)\n",
    "plt.title('Top 10 Countries by Total Cases')\n",
    "plt.xlabel('Country')\n",
    "plt.ylabel('Total Cases (in millions)')\n",
    "plt.show()\n"
   ]
  },
  {
   "cell_type": "code",
   "execution_count": 24,
   "id": "1d54daa7",
   "metadata": {},
   "outputs": [
    {
     "data": {
      "image/png": "[encoded data removed]",
      "text/plain": [
       "<Figure size 1200x600 with 1 Axes>"
      ]
     },
     "metadata": {},
     "output_type": "display_data"
    }
   ],
   "source": [
    "n = 10  # number of countries to visualize\n",
    "lowest_deaths = covid_world.sort_values('Total Deaths').head(n)\n",
    "plt.figure(figsize=(12, 6))\n",
    "sns.barplot(x='Country', y='Total Deaths', data=lowest_deaths)\n",
    "plt.xticks(rotation=45)\n",
    "plt.xlabel('Country')\n",
    "plt.ylabel('Total Deaths')\n",
    "plt.title(f'Top {n} Countries with Lowest Covid-19 Deaths')\n",
    "plt.show()\n"
   ]
  },
  {
   "cell_type": "code",
   "execution_count": 27,
   "id": "93e810b6",
   "metadata": {},
   "outputs": [
    {
     "data": {
      "image/png": "[encoded data removed]",
      "text/plain": [
       "<Figure size 1200x600 with 1 Axes>"
      ]
     },
     "metadata": {},
     "output_type": "display_data"
    }
   ],
   "source": [
    "# The top 10 countires recovered from Covid using a bar chart\n",
    "covid_world['Total Recovered'] = pd.to_numeric(covid_world['Total Recovered'], errors='coerce')\n",
    "plt.figure(figsize=(12, 6))\n",
    "top_recovered = covid_world.nlargest(10, 'Total Recovered')\n",
    "sns.barplot(x='Country', y='Total Recovered', data=top_recovered)\n",
    "plt.xticks(rotation=45)\n",
    "plt.xlabel('Country')\n",
    "plt.ylabel('Total Recovered')\n",
    "plt.title('Top 10 Covid-19 Recovered by Country')\n",
    "plt.show()"
   ]
  },
  {
   "cell_type": "code",
   "execution_count": 43,
   "id": "c514977d",
   "metadata": {},
   "outputs": [
    {
     "data": {
      "application/vnd.plotly.v1+json": {
       "config": {
        "plotlyServerURL": "https://plot.ly"
       },
       "data": [
        {
         "coloraxis": "coloraxis",
         "geo": "geo",
         "hovertemplate": "Country=%{location}<br>Total Deaths=%{z}<extra></extra>",
         "locationmode": "country names",
         "locations": [
          "USA",
          "India",
          "France",
          "Germany",
          "Brazil",
          "Japan",
          "S. Korea",
          "Italy",
          "UK",
          "Russia",
          "Turkey",
          "Spain",
          "Vietnam",
          "Australia",
          "Argentina",
          "Taiwan",
          "Netherlands",
          "Iran",
          "Mexico",
          "Indonesia",
          "Poland",
          "Colombia",
          "Austria",
          "Greece",
          "Portugal",
          "Ukraine",
          "Chile",
          "Malaysia",
          "Israel",
          "DPRK",
          "Thailand",
          "Belgium",
          "Czechia",
          "Canada",
          "Peru",
          "Switzerland",
          "Philippines",
          "South Africa",
          "Romania",
          "Denmark",
          "Hong Kong",
          "Sweden",
          "Serbia",
          "Iraq",
          "Singapore",
          "Hungary",
          "New Zealand",
          "Bangladesh",
          "Slovakia",
          "Georgia",
          "Jordan",
          "Ireland",
          "Pakistan",
          "Norway",
          "Finland",
          "Kazakhstan",
          "Slovenia",
          "Lithuania",
          "Bulgaria",
          "Morocco",
          "Croatia",
          "Lebanon",
          "Guatemala",
          "Bolivia",
          "Costa Rica",
          "Tunisia",
          "Cuba",
          "Ecuador",
          "UAE",
          "Uruguay",
          "Panama",
          "Mongolia",
          "Nepal",
          "Belarus",
          "Latvia",
          "Saudi Arabia",
          "Azerbaijan",
          "Paraguay",
          "Bahrain",
          "Sri Lanka",
          "Kuwait",
          "Dominican Republic",
          "Cyprus",
          "Myanmar",
          "Palestine",
          "Estonia",
          "Moldova",
          "Venezuela",
          "Egypt",
          "Libya",
          "China",
          "Ethiopia",
          "Qatar",
          "Réunion",
          "Honduras",
          "Armenia",
          "Bosnia and Herzegovina",
          "Oman",
          "North Macedonia",
          "Kenya",
          "Zambia",
          "Albania",
          "Botswana",
          "Luxembourg",
          "Montenegro",
          "Brunei",
          "Algeria",
          "Nigeria",
          "Zimbabwe",
          "Uzbekistan",
          "Mozambique",
          "Martinique",
          "Laos",
          "Iceland",
          "Afghanistan",
          "Kyrgyzstan",
          "El Salvador",
          "Guadeloupe",
          "Trinidad and Tobago",
          "Maldives",
          "Ghana",
          "Namibia",
          "Uganda",
          "Jamaica",
          "Cambodia",
          "Rwanda",
          "Cameroon",
          "Malta",
          "Barbados",
          "Angola",
          "Channel Islands",
          "French Guiana",
          "DRC",
          "Senegal",
          "Malawi",
          "Ivory Coast",
          "Suriname",
          "New Caledonia",
          "French Polynesia",
          "Eswatini",
          "Guyana",
          "Belize",
          "Fiji",
          "Madagascar",
          "Sudan",
          "Mauritania",
          "Cabo Verde",
          "Bhutan",
          "Syria",
          "Burundi",
          "Seychelles",
          "Gabon",
          "Andorra",
          "Papua New Guinea",
          "Curaçao",
          "Aruba",
          "Tanzania",
          "Mayotte",
          "Mauritius",
          "Togo",
          "Guinea",
          "Isle of Man",
          "Bahamas",
          "Lesotho",
          "Faeroe Islands",
          "Haiti",
          "Mali",
          "Cayman Islands",
          "Saint Lucia",
          "Benin",
          "Somalia",
          "Congo",
          "Solomon Islands",
          "San Marino",
          "Timor-Leste",
          "Micronesia",
          "Burkina Faso",
          "Liechtenstein",
          "Gibraltar",
          "Grenada",
          "Bermuda",
          "Nicaragua",
          "South Sudan",
          "Tajikistan",
          "Equatorial Guinea",
          "Tonga",
          "Samoa",
          "Monaco",
          "Dominica",
          "Djibouti",
          "Marshall Islands",
          "CAR",
          "Gambia",
          "Saint Martin",
          "Vanuatu",
          "Greenland",
          "Yemen",
          "Caribbean Netherlands",
          "Sint Maarten",
          "Eritrea",
          "Niger",
          "St. Vincent Grenadines",
          "Antigua and Barbuda",
          "Comoros",
          "Guinea-Bissau",
          "Liberia",
          "Sierra Leone",
          "Chad",
          "British Virgin Islands",
          "Cook Islands",
          "Saint Kitts and Nevis",
          "Turks and Caicos",
          "Sao Tome and Principe",
          "Palau",
          "St. Barth",
          "Kiribati",
          "Nauru",
          "Anguilla",
          "Macao",
          "Saint Pierre Miquelon",
          "Wallis and Futuna",
          "Tuvalu",
          "Saint Helena",
          "Falkland Islands",
          "Montserrat",
          "Niue",
          "Diamond Princess",
          "Vatican City",
          "Western Sahara",
          "MS Zaandam",
          "Tokelau"
         ],
         "name": "",
         "type": "choropleth",
         "z": [
          1132935,
          530740,
          164233,
          165711,
          697074,
          68399,
          33486,
          186833,
          204171,
          395108,
          101492,
          118434,
          43186,
          18615,
          130421,
          16356,
          22989,
          144749,
          332198,
          160817,
          118736,
          142486,
          21689,
          35630,
          26022,
          111020,
          63812,
          36942,
          12193,
          74,
          33865,
          33557,
          42312,
          50380,
          218931,
          14452,
          65802,
          102595,
          67576,
          8145,
          13358,
          23246,
          17701,
          25375,
          1722,
          48677,
          3781,
          29442,
          20946,
          16926,
          14122,
          8462,
          30640,
          5112,
          8639,
          13695,
          7056,
          9545,
          38179,
          16296,
          17877,
          10790,
          20106,
          22346,
          9158,
          29308,
          8530,
          35942,
          2348,
          7609,
          8596,
          2179,
          12020,
          7118,
          6218,
          9574,
          10085,
          19820,
          1543,
          16828,
          2570,
          4384,
          1287,
          19490,
          5404,
          2912,
          11953,
          5845,
          24613,
          6437,
          5272,
          7572,
          686,
          919,
          11104,
          8717,
          16255,
          4628,
          9638,
          5688,
          4047,
          3595,
          2800,
          1133,
          2797,
          225,
          6881,
          3155,
          5652,
          1637,
          2233,
          1097,
          758,
          229,
          7882,
          2991,
          4230,
          1007,
          4326,
          311,
          1462,
          4088,
          3630,
          3480,
          3056,
          1468,
          1965,
          824,
          571,
          1931,
          223,
          420,
          1463,
          1971,
          2686,
          833,
          1398,
          314,
          649,
          1422,
          1294,
          688,
          883,
          1419,
          5001,
          997,
          413,
          21,
          3164,
          38,
          172,
          306,
          165,
          670,
          295,
          236,
          846,
          188,
          1043,
          290,
          467,
          116,
          833,
          723,
          28,
          860,
          743,
          37,
          409,
          163,
          1361,
          386,
          153,
          122,
          138,
          58,
          396,
          89,
          111,
          238,
          157,
          225,
          138,
          125,
          183,
          13,
          29,
          65,
          74,
          189,
          17,
          113,
          372,
          63,
          14,
          21,
          2159,
          38,
          89,
          103,
          312,
          123,
          146,
          161,
          176,
          294,
          126,
          194,
          64,
          2,
          46,
          38,
          77,
          9,
          6,
          18,
          1,
          12,
          120,
          2,
          7,
          null,
          null,
          null,
          8,
          null,
          13,
          null,
          1,
          2,
          null
         ]
        }
       ],
       "layout": {
        "coloraxis": {
         "colorbar": {
          "dtick": 5,
          "ticks": "outside",
          "tickvals": [
           0,
           200000,
           400000,
           600000,
           800000,
           1000000
          ],
          "title": {
           "text": "Total Deaths"
          }
         },
         "colorscale": [
          [
           0,
           "#fde725"
          ],
          [
           0.1111111111111111,
           "#b5de2b"
          ],
          [
           0.2222222222222222,
           "#6ece58"
          ],
          [
           0.3333333333333333,
           "#35b779"
          ],
          [
           0.4444444444444444,
           "#1f9e89"
          ],
          [
           0.5555555555555556,
           "#26828e"
          ],
          [
           0.6666666666666666,
           "#31688e"
          ],
          [
           0.7777777777777778,
           "#3e4989"
          ],
          [
           0.8888888888888888,
           "#482878"
          ],
          [
           1,
           "#440154"
          ]
         ]
        },
        "geo": {
         "center": {},
         "domain": {
          "x": [
           0,
           1
          ],
          "y": [
           0,
           1
          ]
         },
         "scope": "world"
        },
        "legend": {
         "tracegroupgap": 0
        },
        "margin": {
         "b": 0,
         "l": 0,
         "r": 0,
         "t": 0
        },
        "template": {
         "data": {
          "bar": [
           {
            "error_x": {
             "color": "#2a3f5f"
            },
            "error_y": {
             "color": "#2a3f5f"
            },
            "marker": {
             "line": {
              "color": "#E5ECF6",
              "width": 0.5
             },
             "pattern": {
              "fillmode": "overlay",
              "size": 10,
              "solidity": 0.2
             }
            },
            "type": "bar"
           }
          ],
          "barpolar": [
           {
            "marker": {
             "line": {
              "color": "#E5ECF6",
              "width": 0.5
             },
             "pattern": {
              "fillmode": "overlay",
              "size": 10,
              "solidity": 0.2
             }
            },
            "type": "barpolar"
           }
          ],
          "carpet": [
           {
            "aaxis": {
             "endlinecolor": "#2a3f5f",
             "gridcolor": "white",
             "linecolor": "white",
             "minorgridcolor": "white",
             "startlinecolor": "#2a3f5f"
            },
            "baxis": {
             "endlinecolor": "#2a3f5f",
             "gridcolor": "white",
             "linecolor": "white",
             "minorgridcolor": "white",
             "startlinecolor": "#2a3f5f"
            },
            "type": "carpet"
           }
          ],
          "choropleth": [
           {
            "colorbar": {
             "outlinewidth": 0,
             "ticks": ""
            },
            "type": "choropleth"
           }
          ],
          "contour": [
           {
            "colorbar": {
             "outlinewidth": 0,
             "ticks": ""
            },
            "colorscale": [
             [
              0,
              "#0d0887"
             ],
             [
              0.1111111111111111,
              "#46039f"
             ],
             [
              0.2222222222222222,
              "#7201a8"
             ],
             [
              0.3333333333333333,
              "#9c179e"
             ],
             [
              0.4444444444444444,
              "#bd3786"
             ],
             [
              0.5555555555555556,
              "#d8576b"
             ],
             [
              0.6666666666666666,
              "#ed7953"
             ],
             [
              0.7777777777777778,
              "#fb9f3a"
             ],
             [
              0.8888888888888888,
              "#fdca26"
             ],
             [
              1,
              "#f0f921"
             ]
            ],
            "type": "contour"
           }
          ],
          "contourcarpet": [
           {
            "colorbar": {
             "outlinewidth": 0,
             "ticks": ""
            },
            "type": "contourcarpet"
           }
          ],
          "heatmap": [
           {
            "colorbar": {
             "outlinewidth": 0,
             "ticks": ""
            },
            "colorscale": [
             [
              0,
              "#0d0887"
             ],
             [
              0.1111111111111111,
              "#46039f"
             ],
             [
              0.2222222222222222,
              "#7201a8"
             ],
             [
              0.3333333333333333,
              "#9c179e"
             ],
             [
              0.4444444444444444,
              "#bd3786"
             ],
             [
              0.5555555555555556,
              "#d8576b"
             ],
             [
              0.6666666666666666,
              "#ed7953"
             ],
             [
              0.7777777777777778,
              "#fb9f3a"
             ],
             [
              0.8888888888888888,
              "#fdca26"
             ],
             [
              1,
              "#f0f921"
             ]
            ],
            "type": "heatmap"
           }
          ],
          "heatmapgl": [
           {
            "colorbar": {
             "outlinewidth": 0,
             "ticks": ""
            },
            "colorscale": [
             [
              0,
              "#0d0887"
             ],
             [
              0.1111111111111111,
              "#46039f"
             ],
             [
              0.2222222222222222,
              "#7201a8"
             ],
             [
              0.3333333333333333,
              "#9c179e"
             ],
             [
              0.4444444444444444,
              "#bd3786"
             ],
             [
              0.5555555555555556,
              "#d8576b"
             ],
             [
              0.6666666666666666,
              "#ed7953"
             ],
             [
              0.7777777777777778,
              "#fb9f3a"
             ],
             [
              0.8888888888888888,
              "#fdca26"
             ],
             [
              1,
              "#f0f921"
             ]
            ],
            "type": "heatmapgl"
           }
          ],
          "histogram": [
           {
            "marker": {
             "pattern": {
              "fillmode": "overlay",
              "size": 10,
              "solidity": 0.2
             }
            },
            "type": "histogram"
           }
          ],
          "histogram2d": [
           {
            "colorbar": {
             "outlinewidth": 0,
             "ticks": ""
            },
            "colorscale": [
             [
              0,
              "#0d0887"
             ],
             [
              0.1111111111111111,
              "#46039f"
             ],
             [
              0.2222222222222222,
              "#7201a8"
             ],
             [
              0.3333333333333333,
              "#9c179e"
             ],
             [
              0.4444444444444444,
              "#bd3786"
             ],
             [
              0.5555555555555556,
              "#d8576b"
             ],
             [
              0.6666666666666666,
              "#ed7953"
             ],
             [
              0.7777777777777778,
              "#fb9f3a"
             ],
             [
              0.8888888888888888,
              "#fdca26"
             ],
             [
              1,
              "#f0f921"
             ]
            ],
            "type": "histogram2d"
           }
          ],
          "histogram2dcontour": [
           {
            "colorbar": {
             "outlinewidth": 0,
             "ticks": ""
            },
            "colorscale": [
             [
              0,
              "#0d0887"
             ],
             [
              0.1111111111111111,
              "#46039f"
             ],
             [
              0.2222222222222222,
              "#7201a8"
             ],
             [
              0.3333333333333333,
              "#9c179e"
             ],
             [
              0.4444444444444444,
              "#bd3786"
             ],
             [
              0.5555555555555556,
              "#d8576b"
             ],
             [
              0.6666666666666666,
              "#ed7953"
             ],
             [
              0.7777777777777778,
              "#fb9f3a"
             ],
             [
              0.8888888888888888,
              "#fdca26"
             ],
             [
              1,
              "#f0f921"
             ]
            ],
            "type": "histogram2dcontour"
           }
          ],
          "mesh3d": [
           {
            "colorbar": {
             "outlinewidth": 0,
             "ticks": ""
            },
            "type": "mesh3d"
           }
          ],
          "parcoords": [
           {
            "line": {
             "colorbar": {
              "outlinewidth": 0,
              "ticks": ""
             }
            },
            "type": "parcoords"
           }
          ],
          "pie": [
           {
            "automargin": true,
            "type": "pie"
           }
          ],
          "scatter": [
           {
            "fillpattern": {
             "fillmode": "overlay",
             "size": 10,
             "solidity": 0.2
            },
            "type": "scatter"
           }
          ],
          "scatter3d": [
           {
            "line": {
             "colorbar": {
              "outlinewidth": 0,
              "ticks": ""
             }
            },
            "marker": {
             "colorbar": {
              "outlinewidth": 0,
              "ticks": ""
             }
            },
            "type": "scatter3d"
           }
          ],
          "scattercarpet": [
           {
            "marker": {
             "colorbar": {
              "outlinewidth": 0,
              "ticks": ""
             }
            },
            "type": "scattercarpet"
           }
          ],
          "scattergeo": [
           {
            "marker": {
             "colorbar": {
              "outlinewidth": 0,
              "ticks": ""
             }
            },
            "type": "scattergeo"
           }
          ],
          "scattergl": [
           {
            "marker": {
             "colorbar": {
              "outlinewidth": 0,
              "ticks": ""
             }
            },
            "type": "scattergl"
           }
          ],
          "scattermapbox": [
           {
            "marker": {
             "colorbar": {
              "outlinewidth": 0,
              "ticks": ""
             }
            },
            "type": "scattermapbox"
           }
          ],
          "scatterpolar": [
           {
            "marker": {
             "colorbar": {
              "outlinewidth": 0,
              "ticks": ""
             }
            },
            "type": "scatterpolar"
           }
          ],
          "scatterpolargl": [
           {
            "marker": {
             "colorbar": {
              "outlinewidth": 0,
              "ticks": ""
             }
            },
            "type": "scatterpolargl"
           }
          ],
          "scatterternary": [
           {
            "marker": {
             "colorbar": {
              "outlinewidth": 0,
              "ticks": ""
             }
            },
            "type": "scatterternary"
           }
          ],
          "surface": [
           {
            "colorbar": {
             "outlinewidth": 0,
             "ticks": ""
            },
            "colorscale": [
             [
              0,
              "#0d0887"
             ],
             [
              0.1111111111111111,
              "#46039f"
             ],
             [
              0.2222222222222222,
              "#7201a8"
             ],
             [
              0.3333333333333333,
              "#9c179e"
             ],
             [
              0.4444444444444444,
              "#bd3786"
             ],
             [
              0.5555555555555556,
              "#d8576b"
             ],
             [
              0.6666666666666666,
              "#ed7953"
             ],
             [
              0.7777777777777778,
              "#fb9f3a"
             ],
             [
              0.8888888888888888,
              "#fdca26"
             ],
             [
              1,
              "#f0f921"
             ]
            ],
            "type": "surface"
           }
          ],
          "table": [
           {
            "cells": {
             "fill": {
              "color": "#EBF0F8"
             },
             "line": {
              "color": "white"
             }
            },
            "header": {
             "fill": {
              "color": "#C8D4E3"
             },
             "line": {
              "color": "white"
             }
            },
            "type": "table"
           }
          ]
         },
         "layout": {
          "annotationdefaults": {
           "arrowcolor": "#2a3f5f",
           "arrowhead": 0,
           "arrowwidth": 1
          },
          "autotypenumbers": "strict",
          "coloraxis": {
           "colorbar": {
            "outlinewidth": 0,
            "ticks": ""
           }
          },
          "colorscale": {
           "diverging": [
            [
             0,
             "#8e0152"
            ],
            [
             0.1,
             "#c51b7d"
            ],
            [
             0.2,
             "#de77ae"
            ],
            [
             0.3,
             "#f1b6da"
            ],
            [
             0.4,
             "#fde0ef"
            ],
            [
             0.5,
             "#f7f7f7"
            ],
            [
             0.6,
             "#e6f5d0"
            ],
            [
             0.7,
             "#b8e186"
            ],
            [
             0.8,
             "#7fbc41"
            ],
            [
             0.9,
             "#4d9221"
            ],
            [
             1,
             "#276419"
            ]
           ],
           "sequential": [
            [
             0,
             "#0d0887"
            ],
            [
             0.1111111111111111,
             "#46039f"
            ],
            [
             0.2222222222222222,
             "#7201a8"
            ],
            [
             0.3333333333333333,
             "#9c179e"
            ],
            [
             0.4444444444444444,
             "#bd3786"
            ],
            [
             0.5555555555555556,
             "#d8576b"
            ],
            [
             0.6666666666666666,
             "#ed7953"
            ],
            [
             0.7777777777777778,
             "#fb9f3a"
            ],
            [
             0.8888888888888888,
             "#fdca26"
            ],
            [
             1,
             "#f0f921"
            ]
           ],
           "sequentialminus": [
            [
             0,
             "#0d0887"
            ],
            [
             0.1111111111111111,
             "#46039f"
            ],
            [
             0.2222222222222222,
             "#7201a8"
            ],
            [
             0.3333333333333333,
             "#9c179e"
            ],
            [
             0.4444444444444444,
             "#bd3786"
            ],
            [
             0.5555555555555556,
             "#d8576b"
            ],
            [
             0.6666666666666666,
             "#ed7953"
            ],
            [
             0.7777777777777778,
             "#fb9f3a"
            ],
            [
             0.8888888888888888,
             "#fdca26"
            ],
            [
             1,
             "#f0f921"
            ]
           ]
          },
          "colorway": [
           "#636efa",
           "#EF553B",
           "#00cc96",
           "#ab63fa",
           "#FFA15A",
           "#19d3f3",
           "#FF6692",
           "#B6E880",
           "#FF97FF",
           "#FECB52"
          ],
          "font": {
           "color": "#2a3f5f"
          },
          "geo": {
           "bgcolor": "white",
           "lakecolor": "white",
           "landcolor": "#E5ECF6",
           "showlakes": true,
           "showland": true,
           "subunitcolor": "white"
          },
          "hoverlabel": {
           "align": "left"
          },
          "hovermode": "closest",
          "mapbox": {
           "style": "light"
          },
          "paper_bgcolor": "white",
          "plot_bgcolor": "#E5ECF6",
          "polar": {
           "angularaxis": {
            "gridcolor": "white",
            "linecolor": "white",
            "ticks": ""
           },
           "bgcolor": "#E5ECF6",
           "radialaxis": {
            "gridcolor": "white",
            "linecolor": "white",
            "ticks": ""
           }
          },
          "scene": {
           "xaxis": {
            "backgroundcolor": "#E5ECF6",
            "gridcolor": "white",
            "gridwidth": 2,
            "linecolor": "white",
            "showbackground": true,
            "ticks": "",
            "zerolinecolor": "white"
           },
           "yaxis": {
            "backgroundcolor": "#E5ECF6",
            "gridcolor": "white",
            "gridwidth": 2,
            "linecolor": "white",
            "showbackground": true,
            "ticks": "",
            "zerolinecolor": "white"
           },
           "zaxis": {
            "backgroundcolor": "#E5ECF6",
            "gridcolor": "white",
            "gridwidth": 2,
            "linecolor": "white",
            "showbackground": true,
            "ticks": "",
            "zerolinecolor": "white"
           }
          },
          "shapedefaults": {
           "line": {
            "color": "#2a3f5f"
           }
          },
          "ternary": {
           "aaxis": {
            "gridcolor": "white",
            "linecolor": "white",
            "ticks": ""
           },
           "baxis": {
            "gridcolor": "white",
            "linecolor": "white",
            "ticks": ""
           },
           "bgcolor": "#E5ECF6",
           "caxis": {
            "gridcolor": "white",
            "linecolor": "white",
            "ticks": ""
           }
          },
          "title": {
           "x": 0.05
          },
          "xaxis": {
           "automargin": true,
           "gridcolor": "white",
           "linecolor": "white",
           "ticks": "",
           "title": {
            "standoff": 15
           },
           "zerolinecolor": "white",
           "zerolinewidth": 2
          },
          "yaxis": {
           "automargin": true,
           "gridcolor": "white",
           "linecolor": "white",
           "ticks": "",
           "title": {
            "standoff": 15
           },
           "zerolinecolor": "white",
           "zerolinewidth": 2
          }
         }
        }
       }
      },
      "text/html": [
       "<div>                            <div id=\"37b6df8b-2482-4cb5-ac7b-2bb89f4112bc\" class=\"plotly-graph-div\" style=\"height:525px; width:100%;\"></div>            <script type=\"text/javascript\">                require([\"plotly\"], function(Plotly) {                    window.PLOTLYENV=window.PLOTLYENV || {};                                    if (document.getElementById(\"37b6df8b-2482-4cb5-ac7b-2bb89f4112bc\")) {                    Plotly.newPlot(                        \"37b6df8b-2482-4cb5-ac7b-2bb89f4112bc\",                        [{\"coloraxis\":\"coloraxis\",\"geo\":\"geo\",\"hovertemplate\":\"Country=%{location}<br>Total Deaths=%{z}<extra></extra>\",\"locationmode\":\"country names\",\"locations\":[\"USA\",\"India\",\"France\",\"Germany\",\"Brazil\",\"Japan\",\"S. Korea\",\"Italy\",\"UK\",\"Russia\",\"Turkey\",\"Spain\",\"Vietnam\",\"Australia\",\"Argentina\",\"Taiwan\",\"Netherlands\",\"Iran\",\"Mexico\",\"Indonesia\",\"Poland\",\"Colombia\",\"Austria\",\"Greece\",\"Portugal\",\"Ukraine\",\"Chile\",\"Malaysia\",\"Israel\",\"DPRK\",\"Thailand\",\"Belgium\",\"Czechia\",\"Canada\",\"Peru\",\"Switzerland\",\"Philippines\",\"South Africa\",\"Romania\",\"Denmark\",\"Hong Kong\",\"Sweden\",\"Serbia\",\"Iraq\",\"Singapore\",\"Hungary\",\"New Zealand\",\"Bangladesh\",\"Slovakia\",\"Georgia\",\"Jordan\",\"Ireland\",\"Pakistan\",\"Norway\",\"Finland\",\"Kazakhstan\",\"Slovenia\",\"Lithuania\",\"Bulgaria\",\"Morocco\",\"Croatia\",\"Lebanon\",\"Guatemala\",\"Bolivia\",\"Costa Rica\",\"Tunisia\",\"Cuba\",\"Ecuador\",\"UAE\",\"Uruguay\",\"Panama\",\"Mongolia\",\"Nepal\",\"Belarus\",\"Latvia\",\"Saudi Arabia\",\"Azerbaijan\",\"Paraguay\",\"Bahrain\",\"Sri Lanka\",\"Kuwait\",\"Dominican Republic\",\"Cyprus\",\"Myanmar\",\"Palestine\",\"Estonia\",\"Moldova\",\"Venezuela\",\"Egypt\",\"Libya\",\"China\",\"Ethiopia\",\"Qatar\",\"R\\u00e9union\",\"Honduras\",\"Armenia\",\"Bosnia and Herzegovina\",\"Oman\",\"North Macedonia\",\"Kenya\",\"Zambia\",\"Albania\",\"Botswana\",\"Luxembourg\",\"Montenegro\",\"Brunei\",\"Algeria\",\"Nigeria\",\"Zimbabwe\",\"Uzbekistan\",\"Mozambique\",\"Martinique\",\"Laos\",\"Iceland\",\"Afghanistan\",\"Kyrgyzstan\",\"El Salvador\",\"Guadeloupe\",\"Trinidad and Tobago\",\"Maldives\",\"Ghana\",\"Namibia\",\"Uganda\",\"Jamaica\",\"Cambodia\",\"Rwanda\",\"Cameroon\",\"Malta\",\"Barbados\",\"Angola\",\"Channel Islands\",\"French Guiana\",\"DRC\",\"Senegal\",\"Malawi\",\"Ivory Coast\",\"Suriname\",\"New Caledonia\",\"French Polynesia\",\"Eswatini\",\"Guyana\",\"Belize\",\"Fiji\",\"Madagascar\",\"Sudan\",\"Mauritania\",\"Cabo Verde\",\"Bhutan\",\"Syria\",\"Burundi\",\"Seychelles\",\"Gabon\",\"Andorra\",\"Papua New Guinea\",\"Cura\\u00e7ao\",\"Aruba\",\"Tanzania\",\"Mayotte\",\"Mauritius\",\"Togo\",\"Guinea\",\"Isle of Man\",\"Bahamas\",\"Lesotho\",\"Faeroe Islands\",\"Haiti\",\"Mali\",\"Cayman Islands\",\"Saint Lucia\",\"Benin\",\"Somalia\",\"Congo\",\"Solomon Islands\",\"San Marino\",\"Timor-Leste\",\"Micronesia\",\"Burkina Faso\",\"Liechtenstein\",\"Gibraltar\",\"Grenada\",\"Bermuda\",\"Nicaragua\",\"South Sudan\",\"Tajikistan\",\"Equatorial Guinea\",\"Tonga\",\"Samoa\",\"Monaco\",\"Dominica\",\"Djibouti\",\"Marshall Islands\",\"CAR\",\"Gambia\",\"Saint Martin\",\"Vanuatu\",\"Greenland\",\"Yemen\",\"Caribbean Netherlands\",\"Sint Maarten\",\"Eritrea\",\"Niger\",\"St. Vincent Grenadines\",\"Antigua and Barbuda\",\"Comoros\",\"Guinea-Bissau\",\"Liberia\",\"Sierra Leone\",\"Chad\",\"British Virgin Islands\",\"Cook Islands\",\"Saint Kitts and Nevis\",\"Turks and Caicos\",\"Sao Tome and Principe\",\"Palau\",\"St. Barth\",\"Kiribati\",\"Nauru\",\"Anguilla\",\"Macao\",\"Saint Pierre Miquelon\",\"Wallis and Futuna\",\"Tuvalu\",\"Saint Helena\",\"Falkland Islands\",\"Montserrat\",\"Niue\",\"Diamond Princess\",\"Vatican City\",\"Western Sahara\",\"MS Zaandam\",\"Tokelau\"],\"name\":\"\",\"z\":[1132935.0,530740.0,164233.0,165711.0,697074.0,68399.0,33486.0,186833.0,204171.0,395108.0,101492.0,118434.0,43186.0,18615.0,130421.0,16356.0,22989.0,144749.0,332198.0,160817.0,118736.0,142486.0,21689.0,35630.0,26022.0,111020.0,63812.0,36942.0,12193.0,74.0,33865.0,33557.0,42312.0,50380.0,218931.0,14452.0,65802.0,102595.0,67576.0,8145.0,13358.0,23246.0,17701.0,25375.0,1722.0,48677.0,3781.0,29442.0,20946.0,16926.0,14122.0,8462.0,30640.0,5112.0,8639.0,13695.0,7056.0,9545.0,38179.0,16296.0,17877.0,10790.0,20106.0,22346.0,9158.0,29308.0,8530.0,35942.0,2348.0,7609.0,8596.0,2179.0,12020.0,7118.0,6218.0,9574.0,10085.0,19820.0,1543.0,16828.0,2570.0,4384.0,1287.0,19490.0,5404.0,2912.0,11953.0,5845.0,24613.0,6437.0,5272.0,7572.0,686.0,919.0,11104.0,8717.0,16255.0,4628.0,9638.0,5688.0,4047.0,3595.0,2800.0,1133.0,2797.0,225.0,6881.0,3155.0,5652.0,1637.0,2233.0,1097.0,758.0,229.0,7882.0,2991.0,4230.0,1007.0,4326.0,311.0,1462.0,4088.0,3630.0,3480.0,3056.0,1468.0,1965.0,824.0,571.0,1931.0,223.0,420.0,1463.0,1971.0,2686.0,833.0,1398.0,314.0,649.0,1422.0,1294.0,688.0,883.0,1419.0,5001.0,997.0,413.0,21.0,3164.0,38.0,172.0,306.0,165.0,670.0,295.0,236.0,846.0,188.0,1043.0,290.0,467.0,116.0,833.0,723.0,28.0,860.0,743.0,37.0,409.0,163.0,1361.0,386.0,153.0,122.0,138.0,58.0,396.0,89.0,111.0,238.0,157.0,225.0,138.0,125.0,183.0,13.0,29.0,65.0,74.0,189.0,17.0,113.0,372.0,63.0,14.0,21.0,2159.0,38.0,89.0,103.0,312.0,123.0,146.0,161.0,176.0,294.0,126.0,194.0,64.0,2.0,46.0,38.0,77.0,9.0,6.0,18.0,1.0,12.0,120.0,2.0,7.0,null,null,null,8.0,null,13.0,null,1.0,2.0,null],\"type\":\"choropleth\"}],                        {\"template\":{\"data\":{\"histogram2dcontour\":[{\"type\":\"histogram2dcontour\",\"colorbar\":{\"outlinewidth\":0,\"ticks\":\"\"},\"colorscale\":[[0.0,\"#0d0887\"],[0.1111111111111111,\"#46039f\"],[0.2222222222222222,\"#7201a8\"],[0.3333333333333333,\"#9c179e\"],[0.4444444444444444,\"#bd3786\"],[0.5555555555555556,\"#d8576b\"],[0.6666666666666666,\"#ed7953\"],[0.7777777777777778,\"#fb9f3a\"],[0.8888888888888888,\"#fdca26\"],[1.0,\"#f0f921\"]]}],\"choropleth\":[{\"type\":\"choropleth\",\"colorbar\":{\"outlinewidth\":0,\"ticks\":\"\"}}],\"histogram2d\":[{\"type\":\"histogram2d\",\"colorbar\":{\"outlinewidth\":0,\"ticks\":\"\"},\"colorscale\":[[0.0,\"#0d0887\"],[0.1111111111111111,\"#46039f\"],[0.2222222222222222,\"#7201a8\"],[0.3333333333333333,\"#9c179e\"],[0.4444444444444444,\"#bd3786\"],[0.5555555555555556,\"#d8576b\"],[0.6666666666666666,\"#ed7953\"],[0.7777777777777778,\"#fb9f3a\"],[0.8888888888888888,\"#fdca26\"],[1.0,\"#f0f921\"]]}],\"heatmap\":[{\"type\":\"heatmap\",\"colorbar\":{\"outlinewidth\":0,\"ticks\":\"\"},\"colorscale\":[[0.0,\"#0d0887\"],[0.1111111111111111,\"#46039f\"],[0.2222222222222222,\"#7201a8\"],[0.3333333333333333,\"#9c179e\"],[0.4444444444444444,\"#bd3786\"],[0.5555555555555556,\"#d8576b\"],[0.6666666666666666,\"#ed7953\"],[0.7777777777777778,\"#fb9f3a\"],[0.8888888888888888,\"#fdca26\"],[1.0,\"#f0f921\"]]}],\"heatmapgl\":[{\"type\":\"heatmapgl\",\"colorbar\":{\"outlinewidth\":0,\"ticks\":\"\"},\"colorscale\":[[0.0,\"#0d0887\"],[0.1111111111111111,\"#46039f\"],[0.2222222222222222,\"#7201a8\"],[0.3333333333333333,\"#9c179e\"],[0.4444444444444444,\"#bd3786\"],[0.5555555555555556,\"#d8576b\"],[0.6666666666666666,\"#ed7953\"],[0.7777777777777778,\"#fb9f3a\"],[0.8888888888888888,\"#fdca26\"],[1.0,\"#f0f921\"]]}],\"contourcarpet\":[{\"type\":\"contourcarpet\",\"colorbar\":{\"outlinewidth\":0,\"ticks\":\"\"}}],\"contour\":[{\"type\":\"contour\",\"colorbar\":{\"outlinewidth\":0,\"ticks\":\"\"},\"colorscale\":[[0.0,\"#0d0887\"],[0.1111111111111111,\"#46039f\"],[0.2222222222222222,\"#7201a8\"],[0.3333333333333333,\"#9c179e\"],[0.4444444444444444,\"#bd3786\"],[0.5555555555555556,\"#d8576b\"],[0.6666666666666666,\"#ed7953\"],[0.7777777777777778,\"#fb9f3a\"],[0.8888888888888888,\"#fdca26\"],[1.0,\"#f0f921\"]]}],\"surface\":[{\"type\":\"surface\",\"colorbar\":{\"outlinewidth\":0,\"ticks\":\"\"},\"colorscale\":[[0.0,\"#0d0887\"],[0.1111111111111111,\"#46039f\"],[0.2222222222222222,\"#7201a8\"],[0.3333333333333333,\"#9c179e\"],[0.4444444444444444,\"#bd3786\"],[0.5555555555555556,\"#d8576b\"],[0.6666666666666666,\"#ed7953\"],[0.7777777777777778,\"#fb9f3a\"],[0.8888888888888888,\"#fdca26\"],[1.0,\"#f0f921\"]]}],\"mesh3d\":[{\"type\":\"mesh3d\",\"colorbar\":{\"outlinewidth\":0,\"ticks\":\"\"}}],\"scatter\":[{\"fillpattern\":{\"fillmode\":\"overlay\",\"size\":10,\"solidity\":0.2},\"type\":\"scatter\"}],\"parcoords\":[{\"type\":\"parcoords\",\"line\":{\"colorbar\":{\"outlinewidth\":0,\"ticks\":\"\"}}}],\"scatterpolargl\":[{\"type\":\"scatterpolargl\",\"marker\":{\"colorbar\":{\"outlinewidth\":0,\"ticks\":\"\"}}}],\"bar\":[{\"error_x\":{\"color\":\"#2a3f5f\"},\"error_y\":{\"color\":\"#2a3f5f\"},\"marker\":{\"line\":{\"color\":\"#E5ECF6\",\"width\":0.5},\"pattern\":{\"fillmode\":\"overlay\",\"size\":10,\"solidity\":0.2}},\"type\":\"bar\"}],\"scattergeo\":[{\"type\":\"scattergeo\",\"marker\":{\"colorbar\":{\"outlinewidth\":0,\"ticks\":\"\"}}}],\"scatterpolar\":[{\"type\":\"scatterpolar\",\"marker\":{\"colorbar\":{\"outlinewidth\":0,\"ticks\":\"\"}}}],\"histogram\":[{\"marker\":{\"pattern\":{\"fillmode\":\"overlay\",\"size\":10,\"solidity\":0.2}},\"type\":\"histogram\"}],\"scattergl\":[{\"type\":\"scattergl\",\"marker\":{\"colorbar\":{\"outlinewidth\":0,\"ticks\":\"\"}}}],\"scatter3d\":[{\"type\":\"scatter3d\",\"line\":{\"colorbar\":{\"outlinewidth\":0,\"ticks\":\"\"}},\"marker\":{\"colorbar\":{\"outlinewidth\":0,\"ticks\":\"\"}}}],\"scattermapbox\":[{\"type\":\"scattermapbox\",\"marker\":{\"colorbar\":{\"outlinewidth\":0,\"ticks\":\"\"}}}],\"scatterternary\":[{\"type\":\"scatterternary\",\"marker\":{\"colorbar\":{\"outlinewidth\":0,\"ticks\":\"\"}}}],\"scattercarpet\":[{\"type\":\"scattercarpet\",\"marker\":{\"colorbar\":{\"outlinewidth\":0,\"ticks\":\"\"}}}],\"carpet\":[{\"aaxis\":{\"endlinecolor\":\"#2a3f5f\",\"gridcolor\":\"white\",\"linecolor\":\"white\",\"minorgridcolor\":\"white\",\"startlinecolor\":\"#2a3f5f\"},\"baxis\":{\"endlinecolor\":\"#2a3f5f\",\"gridcolor\":\"white\",\"linecolor\":\"white\",\"minorgridcolor\":\"white\",\"startlinecolor\":\"#2a3f5f\"},\"type\":\"carpet\"}],\"table\":[{\"cells\":{\"fill\":{\"color\":\"#EBF0F8\"},\"line\":{\"color\":\"white\"}},\"header\":{\"fill\":{\"color\":\"#C8D4E3\"},\"line\":{\"color\":\"white\"}},\"type\":\"table\"}],\"barpolar\":[{\"marker\":{\"line\":{\"color\":\"#E5ECF6\",\"width\":0.5},\"pattern\":{\"fillmode\":\"overlay\",\"size\":10,\"solidity\":0.2}},\"type\":\"barpolar\"}],\"pie\":[{\"automargin\":true,\"type\":\"pie\"}]},\"layout\":{\"autotypenumbers\":\"strict\",\"colorway\":[\"#636efa\",\"#EF553B\",\"#00cc96\",\"#ab63fa\",\"#FFA15A\",\"#19d3f3\",\"#FF6692\",\"#B6E880\",\"#FF97FF\",\"#FECB52\"],\"font\":{\"color\":\"#2a3f5f\"},\"hovermode\":\"closest\",\"hoverlabel\":{\"align\":\"left\"},\"paper_bgcolor\":\"white\",\"plot_bgcolor\":\"#E5ECF6\",\"polar\":{\"bgcolor\":\"#E5ECF6\",\"angularaxis\":{\"gridcolor\":\"white\",\"linecolor\":\"white\",\"ticks\":\"\"},\"radialaxis\":{\"gridcolor\":\"white\",\"linecolor\":\"white\",\"ticks\":\"\"}},\"ternary\":{\"bgcolor\":\"#E5ECF6\",\"aaxis\":{\"gridcolor\":\"white\",\"linecolor\":\"white\",\"ticks\":\"\"},\"baxis\":{\"gridcolor\":\"white\",\"linecolor\":\"white\",\"ticks\":\"\"},\"caxis\":{\"gridcolor\":\"white\",\"linecolor\":\"white\",\"ticks\":\"\"}},\"coloraxis\":{\"colorbar\":{\"outlinewidth\":0,\"ticks\":\"\"}},\"colorscale\":{\"sequential\":[[0.0,\"#0d0887\"],[0.1111111111111111,\"#46039f\"],[0.2222222222222222,\"#7201a8\"],[0.3333333333333333,\"#9c179e\"],[0.4444444444444444,\"#bd3786\"],[0.5555555555555556,\"#d8576b\"],[0.6666666666666666,\"#ed7953\"],[0.7777777777777778,\"#fb9f3a\"],[0.8888888888888888,\"#fdca26\"],[1.0,\"#f0f921\"]],\"sequentialminus\":[[0.0,\"#0d0887\"],[0.1111111111111111,\"#46039f\"],[0.2222222222222222,\"#7201a8\"],[0.3333333333333333,\"#9c179e\"],[0.4444444444444444,\"#bd3786\"],[0.5555555555555556,\"#d8576b\"],[0.6666666666666666,\"#ed7953\"],[0.7777777777777778,\"#fb9f3a\"],[0.8888888888888888,\"#fdca26\"],[1.0,\"#f0f921\"]],\"diverging\":[[0,\"#8e0152\"],[0.1,\"#c51b7d\"],[0.2,\"#de77ae\"],[0.3,\"#f1b6da\"],[0.4,\"#fde0ef\"],[0.5,\"#f7f7f7\"],[0.6,\"#e6f5d0\"],[0.7,\"#b8e186\"],[0.8,\"#7fbc41\"],[0.9,\"#4d9221\"],[1,\"#276419\"]]},\"xaxis\":{\"gridcolor\":\"white\",\"linecolor\":\"white\",\"ticks\":\"\",\"title\":{\"standoff\":15},\"zerolinecolor\":\"white\",\"automargin\":true,\"zerolinewidth\":2},\"yaxis\":{\"gridcolor\":\"white\",\"linecolor\":\"white\",\"ticks\":\"\",\"title\":{\"standoff\":15},\"zerolinecolor\":\"white\",\"automargin\":true,\"zerolinewidth\":2},\"scene\":{\"xaxis\":{\"backgroundcolor\":\"#E5ECF6\",\"gridcolor\":\"white\",\"linecolor\":\"white\",\"showbackground\":true,\"ticks\":\"\",\"zerolinecolor\":\"white\",\"gridwidth\":2},\"yaxis\":{\"backgroundcolor\":\"#E5ECF6\",\"gridcolor\":\"white\",\"linecolor\":\"white\",\"showbackground\":true,\"ticks\":\"\",\"zerolinecolor\":\"white\",\"gridwidth\":2},\"zaxis\":{\"backgroundcolor\":\"#E5ECF6\",\"gridcolor\":\"white\",\"linecolor\":\"white\",\"showbackground\":true,\"ticks\":\"\",\"zerolinecolor\":\"white\",\"gridwidth\":2}},\"shapedefaults\":{\"line\":{\"color\":\"#2a3f5f\"}},\"annotationdefaults\":{\"arrowcolor\":\"#2a3f5f\",\"arrowhead\":0,\"arrowwidth\":1},\"geo\":{\"bgcolor\":\"white\",\"landcolor\":\"#E5ECF6\",\"subunitcolor\":\"white\",\"showland\":true,\"showlakes\":true,\"lakecolor\":\"white\"},\"title\":{\"x\":0.05},\"mapbox\":{\"style\":\"light\"}}},\"geo\":{\"domain\":{\"x\":[0.0,1.0],\"y\":[0.0,1.0]},\"center\":{},\"scope\":\"world\"},\"coloraxis\":{\"colorbar\":{\"title\":{\"text\":\"Total Deaths\"},\"ticks\":\"outside\",\"tickvals\":[0,200000,400000,600000,800000,1000000],\"dtick\":5},\"colorscale\":[[0.0,\"#fde725\"],[0.1111111111111111,\"#b5de2b\"],[0.2222222222222222,\"#6ece58\"],[0.3333333333333333,\"#35b779\"],[0.4444444444444444,\"#1f9e89\"],[0.5555555555555556,\"#26828e\"],[0.6666666666666666,\"#31688e\"],[0.7777777777777778,\"#3e4989\"],[0.8888888888888888,\"#482878\"],[1.0,\"#440154\"]]},\"legend\":{\"tracegroupgap\":0},\"margin\":{\"t\":0,\"r\":0,\"l\":0,\"b\":0}},                        {\"responsive\": true}                    ).then(function(){\n",
       "                            \n",
       "var gd = document.getElementById('37b6df8b-2482-4cb5-ac7b-2bb89f4112bc');\n",
       "var x = new MutationObserver(function (mutations, observer) {{\n",
       "        var display = window.getComputedStyle(gd).display;\n",
       "        if (!display || display === 'none') {{\n",
       "            console.log([gd, 'removed!']);\n",
       "            Plotly.purge(gd);\n",
       "            observer.disconnect();\n",
       "        }}\n",
       "}});\n",
       "\n",
       "// Listen for the removal of the full notebook cells\n",
       "var notebookContainer = gd.closest('#notebook-container');\n",
       "if (notebookContainer) {{\n",
       "    x.observe(notebookContainer, {childList: true});\n",
       "}}\n",
       "\n",
       "// Listen for the clearing of the current output cell\n",
       "var outputEl = gd.closest('.output');\n",
       "if (outputEl) {{\n",
       "    x.observe(outputEl, {childList: true});\n",
       "}}\n",
       "\n",
       "                        })                };                });            </script>        </div>"
      ]
     },
     "metadata": {},
     "output_type": "display_data"
    }
   ],
   "source": [
    "import plotly.express as px\n",
    "fig = px.choropleth(covid_world, locations='Country', locationmode='country names',scope='world',color='Total Deaths', color_continuous_scale= 'Viridis_r')\n",
    "fig.update_layout(margin={'r':0,'t':0,'l':0,'b':0}, coloraxis_colorbar=dict(\n",
    "    title = 'Total Deaths',\n",
    "    ticks = 'outside',\n",
    "    tickvals = [0,200000,400000,600000,800000, 1000000],\n",
    "    dtick = 5\n",
    "))\n",
    "fig.show()"
   ]
  }
 ],
 "metadata": {
  "kernelspec": {
   "display_name": "Python 3 (ipykernel)",
   "language": "python",
   "name": "python3"
  },
  "language_info": {
   "codemirror_mode": {
    "name": "ipython",
    "version": 3
   },
   "file_extension": ".py",
   "mimetype": "text/x-python",
   "name": "python",
   "nbconvert_exporter": "python",
   "pygments_lexer": "ipython3",
   "version": "3.9.13"
  }
 },
 "nbformat": 4,
 "nbformat_minor": 5
}
